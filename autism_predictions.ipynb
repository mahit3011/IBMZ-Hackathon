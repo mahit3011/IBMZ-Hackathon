{
 "cells": [
  {
   "cell_type": "code",
   "execution_count": 1,
   "id": "07d5406b-f875-4515-a7c1-a9301634ab2c",
   "metadata": {},
   "outputs": [],
   "source": [
    "import pandas as pd\n",
    "from sklearn import model_selection\n",
    "import matplotlib.pyplot as plt"
   ]
  },
  {
   "cell_type": "code",
   "execution_count": 2,
   "id": "0b36fbd7-329f-4d4e-896e-aa7c80a4bec6",
   "metadata": {},
   "outputs": [
    {
     "data": {
      "text/html": [
       "<div>\n",
       "<style scoped>\n",
       "    .dataframe tbody tr th:only-of-type {\n",
       "        vertical-align: middle;\n",
       "    }\n",
       "\n",
       "    .dataframe tbody tr th {\n",
       "        vertical-align: top;\n",
       "    }\n",
       "\n",
       "    .dataframe thead th {\n",
       "        text-align: right;\n",
       "    }\n",
       "</style>\n",
       "<table border=\"1\" class=\"dataframe\">\n",
       "  <thead>\n",
       "    <tr style=\"text-align: right;\">\n",
       "      <th></th>\n",
       "      <th>A1_Score</th>\n",
       "      <th>A2_Score</th>\n",
       "      <th>A3_Score</th>\n",
       "      <th>A4_Score</th>\n",
       "      <th>A5_Score</th>\n",
       "      <th>A6_Score</th>\n",
       "      <th>A7_Score</th>\n",
       "      <th>A8_Score</th>\n",
       "      <th>A9_Score</th>\n",
       "      <th>A10_Score</th>\n",
       "      <th>jundice</th>\n",
       "      <th>Class/ASD</th>\n",
       "    </tr>\n",
       "  </thead>\n",
       "  <tbody>\n",
       "    <tr>\n",
       "      <th>0</th>\n",
       "      <td>1</td>\n",
       "      <td>1</td>\n",
       "      <td>1</td>\n",
       "      <td>1</td>\n",
       "      <td>0</td>\n",
       "      <td>0</td>\n",
       "      <td>1</td>\n",
       "      <td>1</td>\n",
       "      <td>0</td>\n",
       "      <td>0</td>\n",
       "      <td>0</td>\n",
       "      <td>0</td>\n",
       "    </tr>\n",
       "    <tr>\n",
       "      <th>1</th>\n",
       "      <td>1</td>\n",
       "      <td>1</td>\n",
       "      <td>0</td>\n",
       "      <td>1</td>\n",
       "      <td>0</td>\n",
       "      <td>0</td>\n",
       "      <td>0</td>\n",
       "      <td>1</td>\n",
       "      <td>0</td>\n",
       "      <td>1</td>\n",
       "      <td>0</td>\n",
       "      <td>0</td>\n",
       "    </tr>\n",
       "    <tr>\n",
       "      <th>2</th>\n",
       "      <td>1</td>\n",
       "      <td>1</td>\n",
       "      <td>0</td>\n",
       "      <td>1</td>\n",
       "      <td>1</td>\n",
       "      <td>0</td>\n",
       "      <td>1</td>\n",
       "      <td>1</td>\n",
       "      <td>1</td>\n",
       "      <td>1</td>\n",
       "      <td>1</td>\n",
       "      <td>1</td>\n",
       "    </tr>\n",
       "    <tr>\n",
       "      <th>3</th>\n",
       "      <td>1</td>\n",
       "      <td>1</td>\n",
       "      <td>0</td>\n",
       "      <td>1</td>\n",
       "      <td>0</td>\n",
       "      <td>0</td>\n",
       "      <td>1</td>\n",
       "      <td>1</td>\n",
       "      <td>0</td>\n",
       "      <td>1</td>\n",
       "      <td>0</td>\n",
       "      <td>0</td>\n",
       "    </tr>\n",
       "    <tr>\n",
       "      <th>4</th>\n",
       "      <td>1</td>\n",
       "      <td>0</td>\n",
       "      <td>0</td>\n",
       "      <td>0</td>\n",
       "      <td>0</td>\n",
       "      <td>0</td>\n",
       "      <td>0</td>\n",
       "      <td>1</td>\n",
       "      <td>0</td>\n",
       "      <td>0</td>\n",
       "      <td>0</td>\n",
       "      <td>0</td>\n",
       "    </tr>\n",
       "    <tr>\n",
       "      <th>...</th>\n",
       "      <td>...</td>\n",
       "      <td>...</td>\n",
       "      <td>...</td>\n",
       "      <td>...</td>\n",
       "      <td>...</td>\n",
       "      <td>...</td>\n",
       "      <td>...</td>\n",
       "      <td>...</td>\n",
       "      <td>...</td>\n",
       "      <td>...</td>\n",
       "      <td>...</td>\n",
       "      <td>...</td>\n",
       "    </tr>\n",
       "    <tr>\n",
       "      <th>699</th>\n",
       "      <td>0</td>\n",
       "      <td>1</td>\n",
       "      <td>0</td>\n",
       "      <td>1</td>\n",
       "      <td>1</td>\n",
       "      <td>0</td>\n",
       "      <td>1</td>\n",
       "      <td>1</td>\n",
       "      <td>1</td>\n",
       "      <td>1</td>\n",
       "      <td>0</td>\n",
       "      <td>1</td>\n",
       "    </tr>\n",
       "    <tr>\n",
       "      <th>700</th>\n",
       "      <td>1</td>\n",
       "      <td>0</td>\n",
       "      <td>0</td>\n",
       "      <td>0</td>\n",
       "      <td>0</td>\n",
       "      <td>0</td>\n",
       "      <td>0</td>\n",
       "      <td>1</td>\n",
       "      <td>0</td>\n",
       "      <td>1</td>\n",
       "      <td>0</td>\n",
       "      <td>0</td>\n",
       "    </tr>\n",
       "    <tr>\n",
       "      <th>701</th>\n",
       "      <td>1</td>\n",
       "      <td>0</td>\n",
       "      <td>1</td>\n",
       "      <td>1</td>\n",
       "      <td>1</td>\n",
       "      <td>0</td>\n",
       "      <td>1</td>\n",
       "      <td>1</td>\n",
       "      <td>0</td>\n",
       "      <td>1</td>\n",
       "      <td>0</td>\n",
       "      <td>1</td>\n",
       "    </tr>\n",
       "    <tr>\n",
       "      <th>702</th>\n",
       "      <td>1</td>\n",
       "      <td>0</td>\n",
       "      <td>0</td>\n",
       "      <td>1</td>\n",
       "      <td>1</td>\n",
       "      <td>0</td>\n",
       "      <td>1</td>\n",
       "      <td>0</td>\n",
       "      <td>1</td>\n",
       "      <td>1</td>\n",
       "      <td>0</td>\n",
       "      <td>0</td>\n",
       "    </tr>\n",
       "    <tr>\n",
       "      <th>703</th>\n",
       "      <td>1</td>\n",
       "      <td>0</td>\n",
       "      <td>1</td>\n",
       "      <td>1</td>\n",
       "      <td>1</td>\n",
       "      <td>0</td>\n",
       "      <td>1</td>\n",
       "      <td>1</td>\n",
       "      <td>1</td>\n",
       "      <td>1</td>\n",
       "      <td>0</td>\n",
       "      <td>1</td>\n",
       "    </tr>\n",
       "  </tbody>\n",
       "</table>\n",
       "<p>704 rows × 12 columns</p>\n",
       "</div>"
      ],
      "text/plain": [
       "     A1_Score  A2_Score  A3_Score  A4_Score  A5_Score  A6_Score  A7_Score  \\\n",
       "0           1         1         1         1         0         0         1   \n",
       "1           1         1         0         1         0         0         0   \n",
       "2           1         1         0         1         1         0         1   \n",
       "3           1         1         0         1         0         0         1   \n",
       "4           1         0         0         0         0         0         0   \n",
       "..        ...       ...       ...       ...       ...       ...       ...   \n",
       "699         0         1         0         1         1         0         1   \n",
       "700         1         0         0         0         0         0         0   \n",
       "701         1         0         1         1         1         0         1   \n",
       "702         1         0         0         1         1         0         1   \n",
       "703         1         0         1         1         1         0         1   \n",
       "\n",
       "     A8_Score  A9_Score  A10_Score  jundice  Class/ASD  \n",
       "0           1         0          0        0          0  \n",
       "1           1         0          1        0          0  \n",
       "2           1         1          1        1          1  \n",
       "3           1         0          1        0          0  \n",
       "4           1         0          0        0          0  \n",
       "..        ...       ...        ...      ...        ...  \n",
       "699         1         1          1        0          1  \n",
       "700         1         0          1        0          0  \n",
       "701         1         0          1        0          1  \n",
       "702         0         1          1        0          0  \n",
       "703         1         1          1        0          1  \n",
       "\n",
       "[704 rows x 12 columns]"
      ]
     },
     "execution_count": 2,
     "metadata": {},
     "output_type": "execute_result"
    }
   ],
   "source": [
    "data=pd.read_csv('autism_screening.csv')\n",
    "data = data.drop(\"relation\", axis=1)\n",
    "data = data.drop(\"age_desc\", axis=1)\n",
    "data = data.drop(\"used_app_before\", axis=1)\n",
    "data = data.drop(\"ethnicity\", axis = 1)\n",
    "data = data.drop(\"contry_of_res\", axis = 1)\n",
    "data = data.drop(\"austim\", axis = 1)\n",
    "data = data.drop(\"result\", axis = 1)\n",
    "data = data.drop(\"gender\", axis = 1)\n",
    "data = data.drop(\"age\", axis = 1)\n",
    "factor_dict = {\"Class/ASD\" : {\"NO\": 0, \"YES\": 1}, \"jundice\" : {\"no\" : 0, \"yes\" : 1}}\n",
    "data.replace(factor_dict, inplace = True)\n",
    "data"
   ]
  },
  {
   "cell_type": "code",
   "execution_count": 3,
   "id": "7c068830-8bd1-435c-bd39-605864172dac",
   "metadata": {},
   "outputs": [
    {
     "data": {
      "text/plain": [
       "(704, 12)"
      ]
     },
     "execution_count": 3,
     "metadata": {},
     "output_type": "execute_result"
    }
   ],
   "source": [
    "data.shape"
   ]
  },
  {
   "cell_type": "code",
   "execution_count": 4,
   "id": "744a18fb-97bc-4b65-93e6-6fa83e45d79f",
   "metadata": {},
   "outputs": [
    {
     "data": {
      "text/plain": [
       "Class/ASD\n",
       "0    515\n",
       "1    189\n",
       "dtype: int64"
      ]
     },
     "execution_count": 4,
     "metadata": {},
     "output_type": "execute_result"
    }
   ],
   "source": [
    "data.groupby('Class/ASD').size()"
   ]
  },
  {
   "cell_type": "code",
   "execution_count": 5,
   "id": "e94ffb04-485f-45d7-aa17-d6de120d63c7",
   "metadata": {},
   "outputs": [
    {
     "data": {
      "image/png": "[encoded data removed]",
      "text/plain": [
       "<Figure size 432x288 with 12 Axes>"
      ]
     },
     "metadata": {
      "needs_background": "light"
     },
     "output_type": "display_data"
    }
   ],
   "source": [
    "data.hist()\n",
    "plt.show()"
   ]
  },
  {
   "cell_type": "code",
   "execution_count": 6,
   "id": "8df6fa17-420f-42d8-80fd-efb456b12f0d",
   "metadata": {},
   "outputs": [
    {
     "data": {
      "text/plain": [
       "array([0, 0, 1, 0, 0, 1, 0, 0, 0, 1, 1, 0, 0, 0, 0, 0, 0, 0, 0, 0, 0, 0,\n",
       "       0, 0, 0, 0, 0, 0, 0, 0, 0, 1, 0, 1, 1, 0, 0, 0, 1, 1, 1, 0, 0, 0,\n",
       "       1, 1, 0, 0, 0, 0, 0, 1, 0, 1, 1, 1, 1, 1, 0, 0, 1, 1, 0, 0, 1, 0,\n",
       "       0, 0, 0, 0, 0, 0, 0, 0, 0, 1, 0, 1, 0, 0, 0, 0, 1, 0, 0, 0, 1, 0,\n",
       "       0, 1, 0, 0, 0, 1, 1, 0, 0, 0, 0, 0, 0, 0, 0, 0, 0, 0, 0, 1, 0, 0,\n",
       "       1, 0, 0, 0, 1, 1, 1, 0, 1, 1, 1, 1, 0, 1, 1, 1, 0, 0, 0, 0, 0, 0,\n",
       "       0, 0, 0, 0, 0, 0, 0, 0, 0, 0, 0, 0, 0, 1, 1, 1, 1, 1, 0, 1, 0, 0,\n",
       "       0, 0, 0, 0, 0, 0, 0, 0, 0, 0, 0, 0, 0, 0, 0, 1, 0, 0, 0, 0, 0, 0,\n",
       "       1, 0, 0, 0, 0, 0, 0, 0, 0, 1, 0, 0, 1, 0, 1, 0, 0, 0, 0, 1, 1, 1,\n",
       "       1, 0, 1, 0, 1, 1, 0, 1, 1, 1, 0, 1, 1, 0, 0, 0, 0, 1, 0, 0, 1, 0,\n",
       "       0, 0, 0, 1, 1, 0, 1, 0, 0, 1, 0, 0, 0, 0, 0, 0, 0, 0, 0, 0, 0, 0,\n",
       "       0, 0, 0, 0, 0, 0, 0, 1, 0, 0, 0, 0, 0, 0, 0, 0, 0, 0, 0, 0, 0, 0,\n",
       "       0, 1, 0, 0, 0, 0, 1, 1, 1, 0, 0, 0, 0, 0, 1, 0, 0, 1, 1, 1, 0, 0,\n",
       "       0, 0, 0, 1, 1, 1, 0, 0, 0, 1, 1, 1, 0, 1, 0, 1, 0, 0, 0, 0, 1, 1,\n",
       "       1, 1, 0, 0, 1, 1, 0, 0, 0, 0, 0, 0, 0, 0, 1, 0, 0, 0, 0, 0, 0, 0,\n",
       "       0, 1, 1, 0, 0, 0, 0, 0, 0, 0, 0, 0, 0, 0, 0, 0, 0, 0, 1, 0, 1, 0,\n",
       "       0, 0, 0, 0, 0, 0, 0, 0, 0, 0, 0, 0, 0, 0, 0, 0, 0, 0, 0, 0, 0, 0,\n",
       "       0, 0, 0, 0, 0, 0, 0, 0, 1, 0, 0, 0, 0, 0, 0, 0, 0, 0, 0, 0, 0, 0,\n",
       "       0, 0, 0, 0, 0, 0, 0, 0, 0, 0, 0, 1, 0, 0, 0, 0, 0, 0, 1, 0, 0, 0,\n",
       "       0, 0, 0, 0, 0, 0, 0, 0, 1, 0, 0, 0, 1, 1, 0, 1, 0, 0, 0, 0, 0, 0,\n",
       "       0, 0, 0, 1, 1, 0, 1, 0, 1, 0, 0, 0, 1, 0, 0, 0, 0, 0, 1, 0, 0, 0,\n",
       "       0, 0, 1, 0, 1, 0, 1, 0, 0, 1, 0, 0, 0, 0, 0, 0, 0, 0, 0, 0, 0, 0,\n",
       "       0, 0, 1, 1, 0, 0, 1, 0, 0, 1, 0, 0, 0, 1, 1, 0, 0, 1, 0, 0, 1, 0,\n",
       "       0, 0, 1, 0, 1, 1, 0, 0, 1, 1, 0, 1, 0, 0, 1, 1, 1, 0, 1, 0, 0, 0,\n",
       "       1, 0, 0, 0, 0, 1, 0, 0, 0, 0, 0, 0, 1, 0, 1, 1, 1, 1, 0, 0, 0, 1,\n",
       "       0, 0, 0, 1, 1, 0, 0, 0, 1, 0, 1, 1, 0, 0, 0, 0, 0, 0, 1, 0, 0, 0,\n",
       "       0, 1, 0, 0, 1, 1, 1, 0, 0, 0, 0, 1, 1, 0, 1, 1, 1, 0, 0, 0, 1, 0,\n",
       "       0, 0, 0, 0, 0, 0, 0, 0, 0, 0, 0, 0, 0, 0, 0, 0, 0, 0, 0, 0, 0, 0,\n",
       "       0, 0, 0, 0, 0, 1, 0, 1, 0, 0, 0, 0, 0, 0, 0, 0, 0, 0, 1, 0, 0, 1,\n",
       "       0, 1, 0, 1, 0, 0, 0, 1, 0, 0, 0, 0, 0, 0, 0, 1, 1, 0, 0, 0, 0, 1,\n",
       "       1, 1, 0, 0, 0, 1, 0, 0, 0, 1, 1, 1, 1, 1, 0, 0, 0, 0, 1, 1, 1, 1,\n",
       "       0, 0, 0, 1, 0, 1, 1, 1, 0, 0, 1, 0, 1, 0, 1, 0, 1, 1, 0, 1, 0, 1])"
      ]
     },
     "execution_count": 6,
     "metadata": {},
     "output_type": "execute_result"
    }
   ],
   "source": [
    "validation_size=0.20\n",
    "seed=7\n",
    "array = data.values\n",
    "X = array[:,0:10]\n",
    "Y = array[:,11]\n",
    "Y"
   ]
  },
  {
   "cell_type": "code",
   "execution_count": 7,
   "id": "d1278649-e278-49ef-b8f3-29d993fd0c38",
   "metadata": {},
   "outputs": [],
   "source": [
    "X_train , X_validation, Y_train, Y_validation=model_selection.train_test_split(X,Y,test_size=validation_size, random_state=seed)"
   ]
  },
  {
   "cell_type": "code",
   "execution_count": 8,
   "id": "1d3c0cf1-dd3c-4550-a2e0-02401e128343",
   "metadata": {},
   "outputs": [
    {
     "data": {
      "text/plain": [
       "(563, 10)"
      ]
     },
     "execution_count": 8,
     "metadata": {},
     "output_type": "execute_result"
    }
   ],
   "source": [
    "X_train.shape"
   ]
  },
  {
   "cell_type": "code",
   "execution_count": 9,
   "id": "9b7c582b-c988-4520-a925-dcb88c957153",
   "metadata": {},
   "outputs": [
    {
     "data": {
      "text/plain": [
       "(141, 10)"
      ]
     },
     "execution_count": 9,
     "metadata": {},
     "output_type": "execute_result"
    }
   ],
   "source": [
    "X_validation.shape"
   ]
  },
  {
   "cell_type": "code",
   "execution_count": 10,
   "id": "a7fad59f-2402-47f3-a0ca-e5615d0faf48",
   "metadata": {},
   "outputs": [],
   "source": [
    "from sklearn import linear_model\n",
    "from sklearn.metrics import accuracy_score\n",
    "from sklearn.metrics import confusion_matrix\n",
    "from sklearn.metrics import classification_report\n",
    "lgr=linear_model.LogisticRegression()"
   ]
  },
  {
   "cell_type": "code",
   "execution_count": 11,
   "id": "27f22acf-f7d0-482e-a96a-e4fe01d384e9",
   "metadata": {},
   "outputs": [
    {
     "data": {
      "text/html": [
       "<style>#sk-container-id-1 {color: black;background-color: white;}#sk-container-id-1 pre{padding: 0;}#sk-container-id-1 div.sk-toggleable {background-color: white;}#sk-container-id-1 label.sk-toggleable__label {cursor: pointer;display: block;width: 100%;margin-bottom: 0;padding: 0.3em;box-sizing: border-box;text-align: center;}#sk-container-id-1 label.sk-toggleable__label-arrow:before {content: \"▸\";float: left;margin-right: 0.25em;color: #696969;}#sk-container-id-1 label.sk-toggleable__label-arrow:hover:before {color: black;}#sk-container-id-1 div.sk-estimator:hover label.sk-toggleable__label-arrow:before {color: black;}#sk-container-id-1 div.sk-toggleable__content {max-height: 0;max-width: 0;overflow: hidden;text-align: left;background-color: #f0f8ff;}#sk-container-id-1 div.sk-toggleable__content pre {margin: 0.2em;color: black;border-radius: 0.25em;background-color: #f0f8ff;}#sk-container-id-1 input.sk-toggleable__control:checked~div.sk-toggleable__content {max-height: 200px;max-width: 100%;overflow: auto;}#sk-container-id-1 input.sk-toggleable__control:checked~label.sk-toggleable__label-arrow:before {content: \"▾\";}#sk-container-id-1 div.sk-estimator input.sk-toggleable__control:checked~label.sk-toggleable__label {background-color: #d4ebff;}#sk-container-id-1 div.sk-label input.sk-toggleable__control:checked~label.sk-toggleable__label {background-color: #d4ebff;}#sk-container-id-1 input.sk-hidden--visually {border: 0;clip: rect(1px 1px 1px 1px);clip: rect(1px, 1px, 1px, 1px);height: 1px;margin: -1px;overflow: hidden;padding: 0;position: absolute;width: 1px;}#sk-container-id-1 div.sk-estimator {font-family: monospace;background-color: #f0f8ff;border: 1px dotted black;border-radius: 0.25em;box-sizing: border-box;margin-bottom: 0.5em;}#sk-container-id-1 div.sk-estimator:hover {background-color: #d4ebff;}#sk-container-id-1 div.sk-parallel-item::after {content: \"\";width: 100%;border-bottom: 1px solid gray;flex-grow: 1;}#sk-container-id-1 div.sk-label:hover label.sk-toggleable__label {background-color: #d4ebff;}#sk-container-id-1 div.sk-serial::before {content: \"\";position: absolute;border-left: 1px solid gray;box-sizing: border-box;top: 0;bottom: 0;left: 50%;z-index: 0;}#sk-container-id-1 div.sk-serial {display: flex;flex-direction: column;align-items: center;background-color: white;padding-right: 0.2em;padding-left: 0.2em;position: relative;}#sk-container-id-1 div.sk-item {position: relative;z-index: 1;}#sk-container-id-1 div.sk-parallel {display: flex;align-items: stretch;justify-content: center;background-color: white;position: relative;}#sk-container-id-1 div.sk-item::before, #sk-container-id-1 div.sk-parallel-item::before {content: \"\";position: absolute;border-left: 1px solid gray;box-sizing: border-box;top: 0;bottom: 0;left: 50%;z-index: -1;}#sk-container-id-1 div.sk-parallel-item {display: flex;flex-direction: column;z-index: 1;position: relative;background-color: white;}#sk-container-id-1 div.sk-parallel-item:first-child::after {align-self: flex-end;width: 50%;}#sk-container-id-1 div.sk-parallel-item:last-child::after {align-self: flex-start;width: 50%;}#sk-container-id-1 div.sk-parallel-item:only-child::after {width: 0;}#sk-container-id-1 div.sk-dashed-wrapped {border: 1px dashed gray;margin: 0 0.4em 0.5em 0.4em;box-sizing: border-box;padding-bottom: 0.4em;background-color: white;}#sk-container-id-1 div.sk-label label {font-family: monospace;font-weight: bold;display: inline-block;line-height: 1.2em;}#sk-container-id-1 div.sk-label-container {text-align: center;}#sk-container-id-1 div.sk-container {/* jupyter's `normalize.less` sets `[hidden] { display: none; }` but bootstrap.min.css set `[hidden] { display: none !important; }` so we also need the `!important` here to be able to override the default hidden behavior on the sphinx rendered scikit-learn.org. See: https://github.com/scikit-learn/scikit-learn/issues/21755 */display: inline-block !important;position: relative;}#sk-container-id-1 div.sk-text-repr-fallback {display: none;}</style><div id=\"sk-container-id-1\" class=\"sk-top-container\"><div class=\"sk-text-repr-fallback\"><pre>LogisticRegression()</pre><b>In a Jupyter environment, please rerun this cell to show the HTML representation or trust the notebook. <br />On GitHub, the HTML representation is unable to render, please try loading this page with nbviewer.org.</b></div><div class=\"sk-container\" hidden><div class=\"sk-item\"><div class=\"sk-estimator sk-toggleable\"><input class=\"sk-toggleable__control sk-hidden--visually\" id=\"sk-estimator-id-1\" type=\"checkbox\" checked><label for=\"sk-estimator-id-1\" class=\"sk-toggleable__label sk-toggleable__label-arrow\">LogisticRegression</label><div class=\"sk-toggleable__content\"><pre>LogisticRegression()</pre></div></div></div></div></div>"
      ],
      "text/plain": [
       "LogisticRegression()"
      ]
     },
     "execution_count": 11,
     "metadata": {},
     "output_type": "execute_result"
    }
   ],
   "source": [
    "lgr.fit(X_train, Y_train)"
   ]
  },
  {
   "cell_type": "code",
   "execution_count": 12,
   "id": "8b39cbea-0a52-4986-9a7f-4382d42f728c",
   "metadata": {},
   "outputs": [
    {
     "data": {
      "text/plain": [
       "1.0"
      ]
     },
     "execution_count": 12,
     "metadata": {},
     "output_type": "execute_result"
    }
   ],
   "source": [
    "predictions=lgr.predict(X_validation)\n",
    "accuracy_score(Y_validation,predictions)"
   ]
  },
  {
   "cell_type": "code",
   "execution_count": 13,
   "id": "a51b4385-32a4-4d35-a034-ae3caec60781",
   "metadata": {},
   "outputs": [
    {
     "data": {
      "text/plain": [
       "array([[97,  0],\n",
       "       [ 0, 44]])"
      ]
     },
     "execution_count": 13,
     "metadata": {},
     "output_type": "execute_result"
    }
   ],
   "source": [
    "confusion_matrix(Y_validation,predictions)"
   ]
  },
  {
   "cell_type": "code",
   "execution_count": 14,
   "id": "c16faa05-6d30-4796-9bb6-edb747d955cf",
   "metadata": {},
   "outputs": [
    {
     "data": {
      "text/html": [
       "<style>#sk-container-id-2 {color: black;background-color: white;}#sk-container-id-2 pre{padding: 0;}#sk-container-id-2 div.sk-toggleable {background-color: white;}#sk-container-id-2 label.sk-toggleable__label {cursor: pointer;display: block;width: 100%;margin-bottom: 0;padding: 0.3em;box-sizing: border-box;text-align: center;}#sk-container-id-2 label.sk-toggleable__label-arrow:before {content: \"▸\";float: left;margin-right: 0.25em;color: #696969;}#sk-container-id-2 label.sk-toggleable__label-arrow:hover:before {color: black;}#sk-container-id-2 div.sk-estimator:hover label.sk-toggleable__label-arrow:before {color: black;}#sk-container-id-2 div.sk-toggleable__content {max-height: 0;max-width: 0;overflow: hidden;text-align: left;background-color: #f0f8ff;}#sk-container-id-2 div.sk-toggleable__content pre {margin: 0.2em;color: black;border-radius: 0.25em;background-color: #f0f8ff;}#sk-container-id-2 input.sk-toggleable__control:checked~div.sk-toggleable__content {max-height: 200px;max-width: 100%;overflow: auto;}#sk-container-id-2 input.sk-toggleable__control:checked~label.sk-toggleable__label-arrow:before {content: \"▾\";}#sk-container-id-2 div.sk-estimator input.sk-toggleable__control:checked~label.sk-toggleable__label {background-color: #d4ebff;}#sk-container-id-2 div.sk-label input.sk-toggleable__control:checked~label.sk-toggleable__label {background-color: #d4ebff;}#sk-container-id-2 input.sk-hidden--visually {border: 0;clip: rect(1px 1px 1px 1px);clip: rect(1px, 1px, 1px, 1px);height: 1px;margin: -1px;overflow: hidden;padding: 0;position: absolute;width: 1px;}#sk-container-id-2 div.sk-estimator {font-family: monospace;background-color: #f0f8ff;border: 1px dotted black;border-radius: 0.25em;box-sizing: border-box;margin-bottom: 0.5em;}#sk-container-id-2 div.sk-estimator:hover {background-color: #d4ebff;}#sk-container-id-2 div.sk-parallel-item::after {content: \"\";width: 100%;border-bottom: 1px solid gray;flex-grow: 1;}#sk-container-id-2 div.sk-label:hover label.sk-toggleable__label {background-color: #d4ebff;}#sk-container-id-2 div.sk-serial::before {content: \"\";position: absolute;border-left: 1px solid gray;box-sizing: border-box;top: 0;bottom: 0;left: 50%;z-index: 0;}#sk-container-id-2 div.sk-serial {display: flex;flex-direction: column;align-items: center;background-color: white;padding-right: 0.2em;padding-left: 0.2em;position: relative;}#sk-container-id-2 div.sk-item {position: relative;z-index: 1;}#sk-container-id-2 div.sk-parallel {display: flex;align-items: stretch;justify-content: center;background-color: white;position: relative;}#sk-container-id-2 div.sk-item::before, #sk-container-id-2 div.sk-parallel-item::before {content: \"\";position: absolute;border-left: 1px solid gray;box-sizing: border-box;top: 0;bottom: 0;left: 50%;z-index: -1;}#sk-container-id-2 div.sk-parallel-item {display: flex;flex-direction: column;z-index: 1;position: relative;background-color: white;}#sk-container-id-2 div.sk-parallel-item:first-child::after {align-self: flex-end;width: 50%;}#sk-container-id-2 div.sk-parallel-item:last-child::after {align-self: flex-start;width: 50%;}#sk-container-id-2 div.sk-parallel-item:only-child::after {width: 0;}#sk-container-id-2 div.sk-dashed-wrapped {border: 1px dashed gray;margin: 0 0.4em 0.5em 0.4em;box-sizing: border-box;padding-bottom: 0.4em;background-color: white;}#sk-container-id-2 div.sk-label label {font-family: monospace;font-weight: bold;display: inline-block;line-height: 1.2em;}#sk-container-id-2 div.sk-label-container {text-align: center;}#sk-container-id-2 div.sk-container {/* jupyter's `normalize.less` sets `[hidden] { display: none; }` but bootstrap.min.css set `[hidden] { display: none !important; }` so we also need the `!important` here to be able to override the default hidden behavior on the sphinx rendered scikit-learn.org. See: https://github.com/scikit-learn/scikit-learn/issues/21755 */display: inline-block !important;position: relative;}#sk-container-id-2 div.sk-text-repr-fallback {display: none;}</style><div id=\"sk-container-id-2\" class=\"sk-top-container\"><div class=\"sk-text-repr-fallback\"><pre>DecisionTreeClassifier()</pre><b>In a Jupyter environment, please rerun this cell to show the HTML representation or trust the notebook. <br />On GitHub, the HTML representation is unable to render, please try loading this page with nbviewer.org.</b></div><div class=\"sk-container\" hidden><div class=\"sk-item\"><div class=\"sk-estimator sk-toggleable\"><input class=\"sk-toggleable__control sk-hidden--visually\" id=\"sk-estimator-id-2\" type=\"checkbox\" checked><label for=\"sk-estimator-id-2\" class=\"sk-toggleable__label sk-toggleable__label-arrow\">DecisionTreeClassifier</label><div class=\"sk-toggleable__content\"><pre>DecisionTreeClassifier()</pre></div></div></div></div></div>"
      ],
      "text/plain": [
       "DecisionTreeClassifier()"
      ]
     },
     "execution_count": 14,
     "metadata": {},
     "output_type": "execute_result"
    }
   ],
   "source": [
    "from sklearn import tree\n",
    "dt=tree.DecisionTreeClassifier()\n",
    "dt.fit(X_train,Y_train)"
   ]
  },
  {
   "cell_type": "code",
   "execution_count": 15,
   "id": "ab403753-eb5e-40d9-81b6-86c6a66e75a7",
   "metadata": {},
   "outputs": [
    {
     "data": {
      "text/plain": [
       "0.9361702127659575"
      ]
     },
     "execution_count": 15,
     "metadata": {},
     "output_type": "execute_result"
    }
   ],
   "source": [
    "predictions=dt.predict(X_validation)\n",
    "accuracy_score(Y_validation,predictions)"
   ]
  },
  {
   "cell_type": "code",
   "execution_count": 16,
   "id": "948f49c7-acb8-41cb-a1f0-53a53e0d6a29",
   "metadata": {},
   "outputs": [
    {
     "data": {
      "text/plain": [
       "array([[91,  6],\n",
       "       [ 3, 41]])"
      ]
     },
     "execution_count": 16,
     "metadata": {},
     "output_type": "execute_result"
    }
   ],
   "source": [
    "confusion_matrix(Y_validation,predictions)"
   ]
  },
  {
   "cell_type": "code",
   "execution_count": 17,
   "id": "92a41351-01e6-4ba9-8b82-cb0bf94cba77",
   "metadata": {},
   "outputs": [
    {
     "data": {
      "text/plain": [
       "0.9787234042553191"
      ]
     },
     "execution_count": 17,
     "metadata": {},
     "output_type": "execute_result"
    }
   ],
   "source": [
    "from sklearn.naive_bayes import GaussianNB\n",
    "gnb=GaussianNB()\n",
    "gnb.fit(X_train,Y_train)\n",
    "predictions=gnb.predict(X_validation)\n",
    "accuracy_score(Y_validation,predictions)"
   ]
  },
  {
   "cell_type": "code",
   "execution_count": 18,
   "id": "274bcf8a-15cb-4854-8730-da122206d2f9",
   "metadata": {},
   "outputs": [
    {
     "data": {
      "text/plain": [
       "array([[96,  1],\n",
       "       [ 2, 42]])"
      ]
     },
     "execution_count": 18,
     "metadata": {},
     "output_type": "execute_result"
    }
   ],
   "source": [
    "confusion_matrix(Y_validation,predictions)"
   ]
  },
  {
   "cell_type": "code",
   "execution_count": 19,
   "id": "e5d3367c-67e2-4e59-afb5-062ce7583895",
   "metadata": {},
   "outputs": [
    {
     "data": {
      "text/plain": [
       "0.9858156028368794"
      ]
     },
     "execution_count": 19,
     "metadata": {},
     "output_type": "execute_result"
    }
   ],
   "source": [
    "from sklearn import svm\n",
    "vm=svm.SVC()\n",
    "vm.fit(X_train,Y_train)\n",
    "predictions=vm.predict(X_validation)\n",
    "accuracy_score(Y_validation,predictions)"
   ]
  },
  {
   "cell_type": "code",
   "execution_count": 20,
   "id": "c0789f0b-6222-4017-bbd5-d32573a57baa",
   "metadata": {},
   "outputs": [
    {
     "data": {
      "text/plain": [
       "array([[97,  0],\n",
       "       [ 2, 42]])"
      ]
     },
     "execution_count": 20,
     "metadata": {},
     "output_type": "execute_result"
    }
   ],
   "source": [
    "confusion_matrix(Y_validation,predictions)"
   ]
  },
  {
   "cell_type": "code",
   "execution_count": 21,
   "id": "6ae48fa3-4341-4341-8a5b-4de480856977",
   "metadata": {},
   "outputs": [
    {
     "name": "stderr",
     "output_type": "stream",
     "text": [
      "/usr/local/lib/python3.8/dist-packages/requests/__init__.py:102: RequestsDependencyWarning: urllib3 (1.25.11) or chardet (5.0.0)/charset_normalizer (2.0.12) doesn't match a supported version!\n",
      "  warnings.warn(\"urllib3 ({}) or chardet ({})/charset_normalizer ({}) doesn't match a supported \"\n"
     ]
    }
   ],
   "source": [
    "from keras.models import Sequential\n",
    "from keras.layers import Dense \n",
    "import numpy as np"
   ]
  },
  {
   "cell_type": "code",
   "execution_count": 22,
   "id": "aa9f9a93-5108-490e-944c-7c1bc34ef5fe",
   "metadata": {},
   "outputs": [],
   "source": [
    "nn=Sequential()\n",
    "nn.add(Dense(12,input_dim=10,activation='relu'))\n",
    "nn.add(Dense(8,activation='relu'))\n",
    "nn.add(Dense(1,activation='sigmoid'))"
   ]
  },
  {
   "cell_type": "code",
   "execution_count": 23,
   "id": "7af79048-8d83-4a75-ab13-467a09e4e0ce",
   "metadata": {},
   "outputs": [],
   "source": [
    "nn.compile(loss='binary_crossentropy',optimizer='adam',metrics=['accuracy'])"
   ]
  },
  {
   "cell_type": "code",
   "execution_count": 24,
   "id": "856550b5-1f6c-4e65-bb8e-6160c43dacdd",
   "metadata": {},
   "outputs": [
    {
     "name": "stdout",
     "output_type": "stream",
     "text": [
      "Epoch 1/150\n",
      "57/57 [==============================] - 0s 506us/step - loss: 0.6467 - accuracy: 0.6785\n",
      "Epoch 2/150\n",
      "57/57 [==============================] - 0s 528us/step - loss: 0.5371 - accuracy: 0.8597\n",
      "Epoch 3/150\n",
      "57/57 [==============================] - 0s 519us/step - loss: 0.4331 - accuracy: 0.8917\n",
      "Epoch 4/150\n",
      "57/57 [==============================] - 0s 504us/step - loss: 0.3534 - accuracy: 0.9005\n",
      "Epoch 5/150\n",
      "57/57 [==============================] - 0s 522us/step - loss: 0.2958 - accuracy: 0.9076\n",
      "Epoch 6/150\n",
      "57/57 [==============================] - 0s 523us/step - loss: 0.2509 - accuracy: 0.9218\n",
      "Epoch 7/150\n",
      "57/57 [==============================] - 0s 525us/step - loss: 0.2151 - accuracy: 0.9307\n",
      "Epoch 8/150\n",
      "57/57 [==============================] - 0s 537us/step - loss: 0.1869 - accuracy: 0.9378\n",
      "Epoch 9/150\n",
      "57/57 [==============================] - 0s 539us/step - loss: 0.1691 - accuracy: 0.9432\n",
      "Epoch 10/150\n",
      "57/57 [==============================] - 0s 511us/step - loss: 0.1501 - accuracy: 0.9449\n",
      "Epoch 11/150\n",
      "57/57 [==============================] - 0s 534us/step - loss: 0.1349 - accuracy: 0.9574\n",
      "Epoch 12/150\n",
      "57/57 [==============================] - 0s 509us/step - loss: 0.1233 - accuracy: 0.9698\n",
      "Epoch 13/150\n",
      "57/57 [==============================] - 0s 518us/step - loss: 0.1148 - accuracy: 0.9591\n",
      "Epoch 14/150\n",
      "57/57 [==============================] - 0s 516us/step - loss: 0.1041 - accuracy: 0.9769\n",
      "Epoch 15/150\n",
      "57/57 [==============================] - 0s 404us/step - loss: 0.0980 - accuracy: 0.9663\n",
      "Epoch 16/150\n",
      "57/57 [==============================] - 0s 399us/step - loss: 0.0909 - accuracy: 0.9822\n",
      "Epoch 17/150\n",
      "57/57 [==============================] - 0s 384us/step - loss: 0.0868 - accuracy: 0.9751\n",
      "Epoch 18/150\n",
      "57/57 [==============================] - 0s 398us/step - loss: 0.0814 - accuracy: 0.9787\n",
      "Epoch 19/150\n",
      "57/57 [==============================] - 0s 504us/step - loss: 0.0768 - accuracy: 0.9805\n",
      "Epoch 20/150\n",
      "57/57 [==============================] - 0s 412us/step - loss: 0.0720 - accuracy: 0.9822\n",
      "Epoch 21/150\n",
      "57/57 [==============================] - 0s 384us/step - loss: 0.0680 - accuracy: 0.9822\n",
      "Epoch 22/150\n",
      "57/57 [==============================] - 0s 389us/step - loss: 0.0646 - accuracy: 0.9840\n",
      "Epoch 23/150\n",
      "57/57 [==============================] - 0s 384us/step - loss: 0.0624 - accuracy: 0.9840\n",
      "Epoch 24/150\n",
      "57/57 [==============================] - 0s 382us/step - loss: 0.0586 - accuracy: 0.9840\n",
      "Epoch 25/150\n",
      "57/57 [==============================] - 0s 406us/step - loss: 0.0563 - accuracy: 0.9876\n",
      "Epoch 26/150\n",
      "57/57 [==============================] - 0s 404us/step - loss: 0.0531 - accuracy: 0.9893\n",
      "Epoch 27/150\n",
      "57/57 [==============================] - 0s 527us/step - loss: 0.0507 - accuracy: 0.9929\n",
      "Epoch 28/150\n",
      "57/57 [==============================] - 0s 429us/step - loss: 0.0495 - accuracy: 0.9911\n",
      "Epoch 29/150\n",
      "57/57 [==============================] - 0s 419us/step - loss: 0.0467 - accuracy: 0.9964\n",
      "Epoch 30/150\n",
      "57/57 [==============================] - 0s 461us/step - loss: 0.0452 - accuracy: 0.9964\n",
      "Epoch 31/150\n",
      "57/57 [==============================] - 0s 404us/step - loss: 0.0424 - accuracy: 0.9947\n",
      "Epoch 32/150\n",
      "57/57 [==============================] - 0s 404us/step - loss: 0.0415 - accuracy: 0.9982\n",
      "Epoch 33/150\n",
      "57/57 [==============================] - 0s 380us/step - loss: 0.0433 - accuracy: 0.9911\n",
      "Epoch 34/150\n",
      "57/57 [==============================] - 0s 400us/step - loss: 0.0385 - accuracy: 0.9964\n",
      "Epoch 35/150\n",
      "57/57 [==============================] - 0s 400us/step - loss: 0.0361 - accuracy: 0.9982\n",
      "Epoch 36/150\n",
      "57/57 [==============================] - 0s 396us/step - loss: 0.0346 - accuracy: 1.0000\n",
      "Epoch 37/150\n",
      "57/57 [==============================] - 0s 388us/step - loss: 0.0329 - accuracy: 0.9982\n",
      "Epoch 38/150\n",
      "57/57 [==============================] - 0s 379us/step - loss: 0.0336 - accuracy: 0.9982\n",
      "Epoch 39/150\n",
      "57/57 [==============================] - 0s 418us/step - loss: 0.0310 - accuracy: 1.0000\n",
      "Epoch 40/150\n",
      "57/57 [==============================] - 0s 387us/step - loss: 0.0301 - accuracy: 1.0000\n",
      "Epoch 41/150\n",
      "57/57 [==============================] - 0s 378us/step - loss: 0.0283 - accuracy: 1.0000\n",
      "Epoch 42/150\n",
      "57/57 [==============================] - 0s 402us/step - loss: 0.0275 - accuracy: 1.0000\n",
      "Epoch 43/150\n",
      "57/57 [==============================] - 0s 403us/step - loss: 0.0264 - accuracy: 1.0000\n",
      "Epoch 44/150\n",
      "57/57 [==============================] - 0s 392us/step - loss: 0.0257 - accuracy: 1.0000\n",
      "Epoch 45/150\n",
      "57/57 [==============================] - 0s 410us/step - loss: 0.0257 - accuracy: 1.0000\n",
      "Epoch 46/150\n",
      "57/57 [==============================] - 0s 399us/step - loss: 0.0241 - accuracy: 1.0000\n",
      "Epoch 47/150\n",
      "57/57 [==============================] - 0s 392us/step - loss: 0.0230 - accuracy: 1.0000\n",
      "Epoch 48/150\n",
      "57/57 [==============================] - 0s 380us/step - loss: 0.0216 - accuracy: 1.0000\n",
      "Epoch 49/150\n",
      "57/57 [==============================] - 0s 390us/step - loss: 0.0211 - accuracy: 1.0000\n",
      "Epoch 50/150\n",
      "57/57 [==============================] - 0s 437us/step - loss: 0.0203 - accuracy: 1.0000\n",
      "Epoch 51/150\n",
      "57/57 [==============================] - 0s 396us/step - loss: 0.0192 - accuracy: 1.0000\n",
      "Epoch 52/150\n",
      "57/57 [==============================] - 0s 387us/step - loss: 0.0189 - accuracy: 1.0000\n",
      "Epoch 53/150\n",
      "57/57 [==============================] - 0s 385us/step - loss: 0.0178 - accuracy: 1.0000\n",
      "Epoch 54/150\n",
      "57/57 [==============================] - 0s 394us/step - loss: 0.0180 - accuracy: 1.0000\n",
      "Epoch 55/150\n",
      "57/57 [==============================] - 0s 387us/step - loss: 0.0172 - accuracy: 1.0000\n",
      "Epoch 56/150\n",
      "57/57 [==============================] - 0s 384us/step - loss: 0.0165 - accuracy: 1.0000\n",
      "Epoch 57/150\n",
      "57/57 [==============================] - 0s 383us/step - loss: 0.0158 - accuracy: 1.0000\n",
      "Epoch 58/150\n",
      "57/57 [==============================] - 0s 391us/step - loss: 0.0146 - accuracy: 1.0000\n",
      "Epoch 59/150\n",
      "57/57 [==============================] - 0s 386us/step - loss: 0.0144 - accuracy: 1.0000\n",
      "Epoch 60/150\n",
      "57/57 [==============================] - 0s 387us/step - loss: 0.0139 - accuracy: 1.0000\n",
      "Epoch 61/150\n",
      "57/57 [==============================] - 0s 376us/step - loss: 0.0134 - accuracy: 1.0000\n",
      "Epoch 62/150\n",
      "57/57 [==============================] - 0s 392us/step - loss: 0.0129 - accuracy: 1.0000\n",
      "Epoch 63/150\n",
      "57/57 [==============================] - 0s 407us/step - loss: 0.0124 - accuracy: 1.0000\n",
      "Epoch 64/150\n",
      "57/57 [==============================] - 0s 536us/step - loss: 0.0124 - accuracy: 1.0000\n",
      "Epoch 65/150\n",
      "57/57 [==============================] - 0s 405us/step - loss: 0.0116 - accuracy: 1.0000\n",
      "Epoch 66/150\n",
      "57/57 [==============================] - 0s 398us/step - loss: 0.0111 - accuracy: 1.0000\n",
      "Epoch 67/150\n",
      "57/57 [==============================] - 0s 384us/step - loss: 0.0103 - accuracy: 1.0000\n",
      "Epoch 68/150\n",
      "57/57 [==============================] - 0s 402us/step - loss: 0.0105 - accuracy: 1.0000\n",
      "Epoch 69/150\n",
      "57/57 [==============================] - 0s 388us/step - loss: 0.0100 - accuracy: 1.0000\n",
      "Epoch 70/150\n",
      "57/57 [==============================] - 0s 399us/step - loss: 0.0097 - accuracy: 1.0000\n",
      "Epoch 71/150\n",
      "57/57 [==============================] - 0s 381us/step - loss: 0.0096 - accuracy: 1.0000\n",
      "Epoch 72/150\n",
      "57/57 [==============================] - 0s 398us/step - loss: 0.0090 - accuracy: 1.0000\n",
      "Epoch 73/150\n",
      "57/57 [==============================] - 0s 403us/step - loss: 0.0084 - accuracy: 1.0000\n",
      "Epoch 74/150\n",
      "57/57 [==============================] - 0s 386us/step - loss: 0.0087 - accuracy: 1.0000\n",
      "Epoch 75/150\n",
      "57/57 [==============================] - 0s 399us/step - loss: 0.0077 - accuracy: 1.0000\n",
      "Epoch 76/150\n",
      "57/57 [==============================] - 0s 381us/step - loss: 0.0078 - accuracy: 1.0000\n",
      "Epoch 77/150\n",
      "57/57 [==============================] - 0s 406us/step - loss: 0.0072 - accuracy: 1.0000\n",
      "Epoch 78/150\n",
      "57/57 [==============================] - 0s 492us/step - loss: 0.0071 - accuracy: 1.0000\n",
      "Epoch 79/150\n",
      "57/57 [==============================] - 0s 459us/step - loss: 0.0068 - accuracy: 1.0000\n",
      "Epoch 80/150\n",
      "57/57 [==============================] - 0s 417us/step - loss: 0.0066 - accuracy: 1.0000\n",
      "Epoch 81/150\n",
      "57/57 [==============================] - 0s 432us/step - loss: 0.0063 - accuracy: 1.0000\n",
      "Epoch 82/150\n",
      "57/57 [==============================] - 0s 440us/step - loss: 0.0062 - accuracy: 1.0000\n",
      "Epoch 83/150\n",
      "57/57 [==============================] - 0s 439us/step - loss: 0.0062 - accuracy: 1.0000\n",
      "Epoch 84/150\n",
      "57/57 [==============================] - 0s 513us/step - loss: 0.0057 - accuracy: 1.0000\n",
      "Epoch 85/150\n",
      "57/57 [==============================] - 0s 441us/step - loss: 0.0055 - accuracy: 1.0000\n",
      "Epoch 86/150\n",
      "57/57 [==============================] - 0s 462us/step - loss: 0.0054 - accuracy: 1.0000\n",
      "Epoch 87/150\n",
      "57/57 [==============================] - 0s 428us/step - loss: 0.0050 - accuracy: 1.0000\n",
      "Epoch 88/150\n",
      "57/57 [==============================] - 0s 431us/step - loss: 0.0048 - accuracy: 1.0000\n",
      "Epoch 89/150\n",
      "57/57 [==============================] - 0s 410us/step - loss: 0.0047 - accuracy: 1.0000\n",
      "Epoch 90/150\n",
      "57/57 [==============================] - 0s 458us/step - loss: 0.0046 - accuracy: 1.0000\n",
      "Epoch 91/150\n",
      "57/57 [==============================] - 0s 425us/step - loss: 0.0044 - accuracy: 1.0000\n",
      "Epoch 92/150\n",
      "57/57 [==============================] - 0s 430us/step - loss: 0.0043 - accuracy: 1.0000\n",
      "Epoch 93/150\n",
      "57/57 [==============================] - 0s 423us/step - loss: 0.0043 - accuracy: 1.0000\n",
      "Epoch 94/150\n",
      "57/57 [==============================] - 0s 453us/step - loss: 0.0038 - accuracy: 1.0000\n",
      "Epoch 95/150\n",
      "57/57 [==============================] - 0s 439us/step - loss: 0.0037 - accuracy: 1.0000\n",
      "Epoch 96/150\n",
      "57/57 [==============================] - 0s 450us/step - loss: 0.0037 - accuracy: 1.0000\n",
      "Epoch 97/150\n",
      "57/57 [==============================] - 0s 430us/step - loss: 0.0034 - accuracy: 1.0000\n",
      "Epoch 98/150\n",
      "57/57 [==============================] - 0s 450us/step - loss: 0.0033 - accuracy: 1.0000\n",
      "Epoch 99/150\n",
      "57/57 [==============================] - 0s 442us/step - loss: 0.0031 - accuracy: 1.0000\n",
      "Epoch 100/150\n",
      "57/57 [==============================] - 0s 432us/step - loss: 0.0033 - accuracy: 1.0000\n",
      "Epoch 101/150\n",
      "57/57 [==============================] - 0s 429us/step - loss: 0.0029 - accuracy: 1.0000\n",
      "Epoch 102/150\n",
      "57/57 [==============================] - 0s 432us/step - loss: 0.0029 - accuracy: 1.0000\n",
      "Epoch 103/150\n",
      "57/57 [==============================] - 0s 423us/step - loss: 0.0027 - accuracy: 1.0000\n",
      "Epoch 104/150\n",
      "57/57 [==============================] - 0s 446us/step - loss: 0.0027 - accuracy: 1.0000\n",
      "Epoch 105/150\n",
      "57/57 [==============================] - 0s 421us/step - loss: 0.0025 - accuracy: 1.0000\n",
      "Epoch 106/150\n",
      "57/57 [==============================] - 0s 458us/step - loss: 0.0025 - accuracy: 1.0000\n",
      "Epoch 107/150\n",
      "57/57 [==============================] - 0s 432us/step - loss: 0.0025 - accuracy: 1.0000\n",
      "Epoch 108/150\n",
      "57/57 [==============================] - 0s 444us/step - loss: 0.0023 - accuracy: 1.0000\n",
      "Epoch 109/150\n",
      "57/57 [==============================] - 0s 559us/step - loss: 0.0022 - accuracy: 1.0000\n",
      "Epoch 110/150\n",
      "57/57 [==============================] - 0s 528us/step - loss: 0.0022 - accuracy: 1.0000\n",
      "Epoch 111/150\n",
      "57/57 [==============================] - 0s 519us/step - loss: 0.0021 - accuracy: 1.0000\n",
      "Epoch 112/150\n",
      "57/57 [==============================] - 0s 451us/step - loss: 0.0020 - accuracy: 1.0000\n",
      "Epoch 113/150\n",
      "57/57 [==============================] - 0s 439us/step - loss: 0.0019 - accuracy: 1.0000\n",
      "Epoch 114/150\n",
      "57/57 [==============================] - 0s 441us/step - loss: 0.0019 - accuracy: 1.0000\n",
      "Epoch 115/150\n",
      "57/57 [==============================] - 0s 441us/step - loss: 0.0018 - accuracy: 1.0000\n",
      "Epoch 116/150\n",
      "57/57 [==============================] - 0s 452us/step - loss: 0.0018 - accuracy: 1.0000\n",
      "Epoch 117/150\n",
      "57/57 [==============================] - 0s 450us/step - loss: 0.0017 - accuracy: 1.0000\n",
      "Epoch 118/150\n",
      "57/57 [==============================] - 0s 441us/step - loss: 0.0016 - accuracy: 1.0000\n",
      "Epoch 119/150\n",
      "57/57 [==============================] - 0s 435us/step - loss: 0.0015 - accuracy: 1.0000\n",
      "Epoch 120/150\n",
      "57/57 [==============================] - 0s 439us/step - loss: 0.0015 - accuracy: 1.0000\n",
      "Epoch 121/150\n",
      "57/57 [==============================] - 0s 422us/step - loss: 0.0015 - accuracy: 1.0000\n",
      "Epoch 122/150\n",
      "57/57 [==============================] - 0s 456us/step - loss: 0.0014 - accuracy: 1.0000\n",
      "Epoch 123/150\n",
      "57/57 [==============================] - 0s 429us/step - loss: 0.0014 - accuracy: 1.0000\n",
      "Epoch 124/150\n",
      "57/57 [==============================] - 0s 572us/step - loss: 0.0013 - accuracy: 1.0000\n",
      "Epoch 125/150\n",
      "57/57 [==============================] - 0s 440us/step - loss: 0.0012 - accuracy: 1.0000\n",
      "Epoch 126/150\n",
      "57/57 [==============================] - 0s 440us/step - loss: 0.0012 - accuracy: 1.0000\n",
      "Epoch 127/150\n",
      "57/57 [==============================] - 0s 437us/step - loss: 0.0012 - accuracy: 1.0000\n",
      "Epoch 128/150\n",
      "57/57 [==============================] - 0s 449us/step - loss: 0.0011 - accuracy: 1.0000\n",
      "Epoch 129/150\n",
      "57/57 [==============================] - 0s 451us/step - loss: 0.0011 - accuracy: 1.0000\n",
      "Epoch 130/150\n",
      "57/57 [==============================] - 0s 445us/step - loss: 0.0011 - accuracy: 1.0000\n",
      "Epoch 131/150\n",
      "57/57 [==============================] - 0s 444us/step - loss: 0.0010 - accuracy: 1.0000\n",
      "Epoch 132/150\n",
      "57/57 [==============================] - 0s 448us/step - loss: 0.0010 - accuracy: 1.0000\n",
      "Epoch 133/150\n",
      "57/57 [==============================] - 0s 442us/step - loss: 9.4239e-04 - accuracy: 1.0000\n",
      "Epoch 134/150\n",
      "57/57 [==============================] - 0s 438us/step - loss: 9.4425e-04 - accuracy: 1.0000\n",
      "Epoch 135/150\n",
      "57/57 [==============================] - 0s 442us/step - loss: 9.0607e-04 - accuracy: 1.0000\n",
      "Epoch 136/150\n",
      "57/57 [==============================] - 0s 451us/step - loss: 8.8079e-04 - accuracy: 1.0000\n",
      "Epoch 137/150\n",
      "57/57 [==============================] - 0s 465us/step - loss: 9.1356e-04 - accuracy: 1.0000\n",
      "Epoch 138/150\n",
      "57/57 [==============================] - 0s 437us/step - loss: 8.3392e-04 - accuracy: 1.0000\n",
      "Epoch 139/150\n",
      "57/57 [==============================] - 0s 446us/step - loss: 7.7987e-04 - accuracy: 1.0000\n",
      "Epoch 140/150\n",
      "57/57 [==============================] - 0s 449us/step - loss: 7.5141e-04 - accuracy: 1.0000\n",
      "Epoch 141/150\n",
      "57/57 [==============================] - 0s 447us/step - loss: 7.3332e-04 - accuracy: 1.0000\n",
      "Epoch 142/150\n",
      "57/57 [==============================] - 0s 436us/step - loss: 7.2367e-04 - accuracy: 1.0000\n",
      "Epoch 143/150\n",
      "57/57 [==============================] - 0s 459us/step - loss: 6.8811e-04 - accuracy: 1.0000\n",
      "Epoch 144/150\n",
      "57/57 [==============================] - 0s 442us/step - loss: 6.6003e-04 - accuracy: 1.0000\n",
      "Epoch 145/150\n",
      "57/57 [==============================] - 0s 441us/step - loss: 6.5866e-04 - accuracy: 1.0000\n",
      "Epoch 146/150\n",
      "57/57 [==============================] - 0s 442us/step - loss: 6.3356e-04 - accuracy: 1.0000\n",
      "Epoch 147/150\n",
      "57/57 [==============================] - 0s 443us/step - loss: 6.0161e-04 - accuracy: 1.0000\n",
      "Epoch 148/150\n",
      "57/57 [==============================] - 0s 444us/step - loss: 5.7084e-04 - accuracy: 1.0000\n",
      "Epoch 149/150\n",
      "57/57 [==============================] - 0s 455us/step - loss: 5.4943e-04 - accuracy: 1.0000\n",
      "Epoch 150/150\n",
      "57/57 [==============================] - 0s 436us/step - loss: 5.6112e-04 - accuracy: 1.0000\n"
     ]
    },
    {
     "data": {
      "text/plain": [
       "<keras.callbacks.History at 0x3ff451c4fa0>"
      ]
     },
     "execution_count": 24,
     "metadata": {},
     "output_type": "execute_result"
    }
   ],
   "source": [
    "nn.fit(X_train, Y_train, epochs=150, batch_size=10)"
   ]
  },
  {
   "cell_type": "code",
   "execution_count": 25,
   "id": "21bf36d7-95cf-48fc-b0c8-6bd9fe03a04f",
   "metadata": {},
   "outputs": [
    {
     "name": "stdout",
     "output_type": "stream",
     "text": [
      "5/5 [==============================] - 0s 638us/step - loss: 0.0064 - accuracy: 1.0000\n"
     ]
    }
   ],
   "source": [
    "predictions=nn.evaluate(X_validation,Y_validation)"
   ]
  }
 ],
 "metadata": {
  "kernelspec": {
   "display_name": "Python 3 (ipykernel)",
   "language": "python",
   "name": "python3"
  },
  "language_info": {
   "codemirror_mode": {
    "name": "ipython",
    "version": 3
   },
   "file_extension": ".py",
   "mimetype": "text/x-python",
   "name": "python",
   "nbconvert_exporter": "python",
   "pygments_lexer": "ipython3",
   "version": "3.8.10"
  }
 },
 "nbformat": 4,
 "nbformat_minor": 5
}
